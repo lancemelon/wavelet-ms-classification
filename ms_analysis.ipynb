{
 "cells": [
  {
   "cell_type": "code",
   "execution_count": 1,
   "id": "0ce7bdcd-1bb0-45c7-be3e-d67eaf7374d9",
   "metadata": {},
   "outputs": [],
   "source": [
    "import pandas as pd\n",
    "import numpy as np\n",
    "import scipy.stats as stats\n",
    "import pywt\n",
    "from sklearn.decomposition import PCA\n",
    "from sklearn.preprocessing import StandardScaler\n",
    "import matplotlib.pyplot as plt\n",
    "import seaborn as sns\n",
    "import skfda"
   ]
  },
  {
   "cell_type": "markdown",
   "id": "ff021661-c384-4452-97b0-4a1121f34fa0",
   "metadata": {},
   "source": [
    "## Read MS Data"
   ]
  },
  {
   "cell_type": "markdown",
   "id": "668281f3-e58b-4211-9eee-e673a2cc73f3",
   "metadata": {},
   "source": [
    "### Visualize MS Data"
   ]
  },
  {
   "cell_type": "code",
   "execution_count": null,
   "id": "d5c05149-e5d0-4f77-a2ff-e34352e1d598",
   "metadata": {},
   "outputs": [],
   "source": [
    "def visualizeRawMS(data):\n",
    "    plt.figure(figsize=(12.5, 5))\n",
    "    plt.plot(data[\"M.Z\"], data[\"Intensity\"], linestyle='-')\n",
    "    plt.xlabel(\"m/z\")\n",
    "    plt.ylabel(\"intensity\")\n",
    "    plt.show()"
   ]
  },
  {
   "cell_type": "markdown",
   "id": "8f9556ef-233e-4e7e-9a6b-8939267007c0",
   "metadata": {},
   "source": [
    "## Segment Data "
   ]
  },
  {
   "cell_type": "code",
   "execution_count": null,
   "id": "27176d27-3d98-4260-9468-a311ec419c97",
   "metadata": {},
   "outputs": [],
   "source": [
    "def segmentData(data, n, N):\n",
    "    # Matrix Z of (N x n)\n",
    "    intensity_values = data.iloc[:, 1].values\n",
    "    usable_values = n * N  # 32,768 intensity values\n",
    "    intensity_values_trimmed = intensity_values[:usable_values]\n",
    "    \n",
    "    Z = np.array([intensity_values_trimmed[i*N:(i+1)*N] for i in range(n)]).T\n",
    "\n",
    "    return Z"
   ]
  },
  {
   "cell_type": "markdown",
   "id": "00a516ac-1fa8-4175-acc6-767eb51bc40f",
   "metadata": {},
   "source": [
    "## Apply DWT to each window"
   ]
  },
  {
   "cell_type": "code",
   "execution_count": null,
   "id": "7f367a1b-cd3e-4265-b7c8-7e4444acaf76",
   "metadata": {},
   "outputs": [],
   "source": [
    "def applyDWT(Z):\n",
    "    # Wavelet family\n",
    "    wavelet = 'bior3.1'\n",
    "    \n",
    "    cA_values = []\n",
    "    cD_values = []\n",
    "    \n",
    "    for i in range(Z.shape[1]):\n",
    "        cA, cD = pywt.dwt(Z[:, i], wavelet)  # Apply DWT to the i-th column\n",
    "        cA_values.append(cA)  # Use append to add each cA\n",
    "        cD_values.append(cD)  # Use append to add each cD\n",
    "    \n",
    "    cA_values = np.array(cA_values)  # Shape: (64, 128)\n",
    "    cD_values = np.array(cD_values)  # Shape: (64, 128)\n",
    "\n",
    "    return cA_values.T, cD_values.T"
   ]
  },
  {
   "cell_type": "markdown",
   "id": "50a8104a-9c9d-4208-a7f5-3cd6f6482318",
   "metadata": {},
   "source": [
    "## Extract Statistical Descriptors for cA and cD (approximation, detailed)"
   ]
  },
  {
   "cell_type": "code",
   "execution_count": null,
   "id": "3f91b0ac-7799-40c6-9c3b-af4b263ca78c",
   "metadata": {},
   "outputs": [],
   "source": [
    "# Define function to extract \n",
    "def extract_features(w):\n",
    "    energy = np.sum(w**2)\n",
    "    mean = np.mean(w)\n",
    "    variance = np.var(w)\n",
    "    cv = (np.sqrt(variance))/mean\n",
    "    skewness = stats.skew(w)\n",
    "    kurtosis = stats.kurtosis(w)\n",
    "    return [energy, mean, variance, skewness, kurtosis, cv]"
   ]
  },
  {
   "cell_type": "code",
   "execution_count": null,
   "id": "94a4a1a8-e4bc-4eee-a742-4cc6e380cb20",
   "metadata": {},
   "outputs": [],
   "source": [
    "def displayStatisticalFeatures(features):\n",
    "    features_labels = [\"Energy\", \"Mean\", \"Variance\", \"Skewness\", \"Kurtosis\", \"CV\"]\n",
    "    fig, axes = plt.subplots(2, 3, figsize=(15, 8))\n",
    "    \n",
    "    for i, ax in enumerate(axes.flatten()):\n",
    "        sns.histplot(features[:, i], bins=30, kde=True, ax=ax)\n",
    "        ax.set_title(features_labels[i])\n",
    "        \n",
    "    plt.tight_layout()\n",
    "    plt.show()"
   ]
  },
  {
   "cell_type": "markdown",
   "id": "25e7a106-27fd-4693-8c92-69a285646458",
   "metadata": {},
   "source": [
    "## Apply PCA to feature matracies"
   ]
  },
  {
   "cell_type": "code",
   "execution_count": null,
   "id": "022f624a-bc4c-40ed-8853-b314e32deaf5",
   "metadata": {},
   "outputs": [],
   "source": [
    "# Do before applying PCA follow below\n",
    "# scaler = StandardScaler()\n",
    "\n",
    "# feature_a_scaled = scaler.fit_transform(feature_a)\n",
    "# feature_d_scaled = scaler.fit_transform(feature_d)\n",
    "\n",
    "# min_variance = 0.90\n",
    "# max_variance = 0.95\n",
    "\n",
    "\n",
    "def pca_with_variance(data, min_var, max_var):\n",
    "    # Fit PCA\n",
    "    pca = PCA().fit(data)\n",
    "    \n",
    "    cumsum_var = np.cumsum(pca.explained_variance_ratio_)\n",
    "    \n",
    "    valid_indices = np.where((cumsum_var >= min_var) & (cumsum_var <= max_var))[0]\n",
    "    \n",
    "    if len(valid_indices) == 0:\n",
    "        raise ValueError(f\"No principal components retain between {min_var:.2f} and {max_var:.2f} variance.\")\n",
    "    \n",
    "    n_components = valid_indices[-1] + 1 \n",
    "\n",
    "    pca = PCA(n_components=n_components)\n",
    "    \n",
    "    return pca, pca.fit_transform(data)\n",
    "\n",
    "# pca_a, Z_a = pca_with_variance(feature_a_scaled, min_variance, max_variance)\n",
    "# pca_d, Z_d = pca_with_variance(feature_d_scaled, min_variance, max_variance)\n",
    "\n",
    "# # Checking shapes to ensure valid\n",
    "# print(Z_a.shape)\n",
    "# print(Z_d.shape)"
   ]
  },
  {
   "cell_type": "code",
   "execution_count": null,
   "id": "41ce0cad-c437-4ee9-922d-f388c1a01786",
   "metadata": {},
   "outputs": [],
   "source": [
    "def inverse_lambda(x):\n",
    "    try:\n",
    "        inverse_matrix = np.linalg.inv(x)\n",
    "        return inverse_matrix\n",
    "    except np.linalg.LinAlgError:\n",
    "        print(\"The matrix is singular and does not have an inverse.\")\n",
    "        return None\n",
    "\n",
    "# Function to compute T² values for each sample\n",
    "def computeT2(Z, P, Lambda_inv):\n",
    "    # Project the data into PCA space\n",
    "    ZP = np.dot(Z, P)  # Shape: (N_samples, n_components)\n",
    "\n",
    "    # Compute T² for each sample using the quadratic form:\n",
    "    # T² = zPᵢᵗ * Λ⁻¹ * zPᵢ\n",
    "    T2 = np.einsum('ij,jk,ik->i', ZP, Lambda_inv, ZP)  # Shape: (N_samples,)\n",
    "    return T2"
   ]
  },
  {
   "cell_type": "markdown",
   "id": "e978e256-37b7-430f-b3c3-f4dafda26b3b",
   "metadata": {},
   "source": [
    "## T2"
   ]
  },
  {
   "cell_type": "code",
   "execution_count": 12,
   "id": "305955b3-8953-498a-a5a2-ae937c2a9db4",
   "metadata": {},
   "outputs": [],
   "source": [
    "\"\"\"\n",
    "T2 = sqrt[((T2_a_j)**2) + ((T2_d_j)**2)]\n",
    "\"\"\"\n",
    "def calc_T2_original(a, d):\n",
    "    assert(len(a) == len(d))\n",
    "    res = np.sqrt(a+d)\n",
    "    return res\n",
    "\n",
    "# T2_original = calc_T2_original(T2_a, T2_d)\n",
    "# print(T2_original.shape)\n",
    "# Result: 140.87228258248672"
   ]
  },
  {
   "cell_type": "markdown",
   "id": "79aca275-915d-4638-902f-e43b3b525dc9",
   "metadata": {},
   "source": [
    "## Develop SVM based on T2"
   ]
  },
  {
   "cell_type": "code",
   "execution_count": 13,
   "id": "292936ef-3182-4294-91f5-5955796a37e3",
   "metadata": {},
   "outputs": [
    {
     "name": "stdout",
     "output_type": "stream",
     "text": [
      "Skipping file ./datasets/Normal\\NO217.csv due to PCA variance issue: No principal components retain between 0.80 and 0.95 variance.\n"
     ]
    }
   ],
   "source": [
    "import os\n",
    "import glob\n",
    "\n",
    "cancer_path = './datasets/Cancer/'\n",
    "normal_path = './datasets/Normal/'\n",
    "\n",
    "windows = 64\n",
    "window_size = 512\n",
    "\n",
    "def process_directory(directory, n, N):\n",
    "    all_files = glob.glob(os.path.join(directory, \"*.csv\"))\n",
    "    t2_stats = []\n",
    "    \n",
    "    for file in all_files:\n",
    "        df = pd.read_csv(file)\n",
    "        \n",
    "        Z = segmentData(df, n, N)\n",
    "        \n",
    "        cA, cD = applyDWT(Z)\n",
    "\n",
    "        feature_a = np.array([extract_features(cA[:, i]) for i in range(n)])\n",
    "        feature_d = np.array([extract_features(cD[:, i]) for i in range(n)])\n",
    "\n",
    "        scaler = StandardScaler()\n",
    "        feature_a_scaled = scaler.fit_transform(feature_a)\n",
    "        feature_d_scaled = scaler.fit_transform(feature_d)\n",
    "        min_variance = 0.80\n",
    "        max_variance = 0.95\n",
    "\n",
    "        try:\n",
    "            pca_a, Z_a = pca_with_variance(feature_a_scaled, min_variance, max_variance)\n",
    "            pca_d, Z_d = pca_with_variance(feature_d_scaled, min_variance, max_variance)\n",
    "    \n",
    "            P_feat_a = pca_a.components_.T\n",
    "            Lambda_feat_a = np.diag(pca_a.explained_variance_)\n",
    "            P_feat_d = pca_d.components_.T\n",
    "            Lambda_feat_d = np.diag(pca_d.explained_variance_)\n",
    "            Lambda_feat_a_inv = inverse_lambda(Lambda_feat_a)\n",
    "            Lambda_feat_d_inv = inverse_lambda(Lambda_feat_d)\n",
    "    \n",
    "            T2_a = computeT2(feature_a_scaled, P_feat_a, Lambda_feat_a_inv)\n",
    "            T2_d = computeT2(feature_d_scaled, P_feat_d, Lambda_feat_d_inv)\n",
    "    \n",
    "            T2_stat = calc_T2_original(T2_a, T2_d)\n",
    "    \n",
    "            t2_stats.append(T2_stat)\n",
    "        except ValueError as e:\n",
    "            print(f\"Skipping file {file} due to PCA variance issue: {e}\")\n",
    "            continue\n",
    "    \n",
    "    return t2_stats\n",
    "\n",
    "cancer = np.array(process_directory(cancer_path, windows, window_size))\n",
    "normal = np.array(process_directory(normal_path, windows, window_size))"
   ]
  },
  {
   "cell_type": "code",
   "execution_count": 14,
   "id": "2d64c0a0-ca76-48ce-a0b4-47c05f9f5efd",
   "metadata": {},
   "outputs": [
    {
     "name": "stdout",
     "output_type": "stream",
     "text": [
      "(49, 64)\n",
      "(29, 64)\n"
     ]
    }
   ],
   "source": [
    "print(cancer.shape)\n",
    "print(normal.shape)"
   ]
  },
  {
   "cell_type": "code",
   "execution_count": 15,
   "id": "e5b128ae-5226-4722-a922-269433e049a7",
   "metadata": {},
   "outputs": [],
   "source": [
    "import numpy as np\n",
    "from sklearn.model_selection import train_test_split\n",
    "from imblearn.over_sampling import SMOTE\n",
    "from sklearn.svm import SVC\n",
    "from sklearn.metrics import accuracy_score, recall_score, confusion_matrix\n",
    "\n",
    "X = np.vstack((cancer, normal))\n",
    "y = np.array([1] * len(cancer) + [-1] * len(normal))"
   ]
  },
  {
   "cell_type": "code",
   "execution_count": 16,
   "id": "1dfe2479-f76b-48c2-bc37-531bce2e9682",
   "metadata": {},
   "outputs": [
    {
     "data": {
      "text/plain": [
       "(78, 64)"
      ]
     },
     "execution_count": 16,
     "metadata": {},
     "output_type": "execute_result"
    }
   ],
   "source": [
    "X.shape"
   ]
  },
  {
   "cell_type": "code",
   "execution_count": null,
   "id": "d3b2cd55-2419-42f5-85ea-4082110504c4",
   "metadata": {},
   "outputs": [],
   "source": [
    "# Split the resampled data into training and testing sets\n",
    "X_train, X_test, y_train, y_test = train_test_split(X, y, test_size=0.2, random_state=42, stratify=y)\n",
    "\n",
    "# Apply SMOTE to training data\n",
    "smote = SMOTE(sampling_strategy='minority')\n",
    "X_resampled, y_resampled = smote.fit_resample(X_train, y_train)"
   ]
  },
  {
   "cell_type": "code",
   "execution_count": null,
   "id": "8acb1b58-8a93-46b5-a5ff-ea945ac14acd",
   "metadata": {},
   "outputs": [
    {
     "name": "stdout",
     "output_type": "stream",
     "text": [
      "Best hyperparameters: {'C': 0.03125, 'gamma': 0.0009765625, 'kernel': 'linear'}\n",
      "Best score: 0.8608333333333335\n"
     ]
    }
   ],
   "source": [
    "from sklearn.model_selection import GridSearchCV\n",
    "\n",
    "# Cross validation for hyper-param tuning\n",
    "param_grid = {'C': [2**i for i in range(-8, 9)], 'gamma': [2**i for i in range(-10, 11)], 'kernel': ['rbf', 'linear', 'poly']}\n",
    "grid = GridSearchCV(SVC(), param_grid, cv=5, scoring='accuracy')\n",
    "grid.fit(X_resampled, y_resampled)\n",
    "\n",
    "print(\"Best hyperparameters:\", grid.best_params_)\n",
    "print(\"Best score:\", grid.best_score_)"
   ]
  },
  {
   "cell_type": "code",
   "execution_count": 19,
   "id": "87467187-25e8-497d-8329-2955b50fc046",
   "metadata": {},
   "outputs": [],
   "source": [
    "y_pred = grid.predict(X_test)"
   ]
  },
  {
   "cell_type": "code",
   "execution_count": 20,
   "id": "2f4147b3-fe79-4ed3-9751-5cb3ff9744d9",
   "metadata": {},
   "outputs": [
    {
     "name": "stdout",
     "output_type": "stream",
     "text": [
      "Accuracy: 0.75\n",
      "Sensitivity (Recall): 0.67\n",
      "Specificity: 0.80\n"
     ]
    }
   ],
   "source": [
    "# Accuracy\n",
    "accuracy = accuracy_score(y_test, y_pred)\n",
    "    \n",
    "# Compute confusion matrix\n",
    "cm = confusion_matrix(y_test, y_pred)\n",
    "TP, FN, FP, TN = cm.ravel()\n",
    "    \n",
    "# Sensitivity (Recall for positive class)\n",
    "sensitivity = TP / (TP + FN)\n",
    "    \n",
    "# Specificity (True Negative Rate)\n",
    "specificity = TN / (TN + FP)\n",
    "    \n",
    "# Print results\n",
    "print(f\"Accuracy: {accuracy:.2f}\")\n",
    "print(f\"Sensitivity (Recall): {sensitivity:.2f}\")\n",
    "print(f\"Specificity: {specificity:.2f}\")\n"
   ]
  },
  {
   "cell_type": "code",
   "execution_count": 21,
   "id": "dd4e577e-e0fb-4faa-9c6c-ea422374dc1e",
   "metadata": {},
   "outputs": [
    {
     "data": {
      "image/png": "[encoded data removed]",
      "text/plain": [
       "<Figure size 600x500 with 2 Axes>"
      ]
     },
     "metadata": {},
     "output_type": "display_data"
    }
   ],
   "source": [
    "class_labels = [\"Cancer (1)\", \"Normal (-1)\"]\n",
    "\n",
    "plt.figure(figsize=(6, 5))\n",
    "sns.heatmap(cm, annot=True, fmt=\"d\", cmap=\"Blues\", xticklabels=class_labels, yticklabels=class_labels)\n",
    "plt.xlabel(\"Predicted Label\")\n",
    "plt.ylabel(\"True Label\")\n",
    "plt.title(\"Confusion Matrix\")\n",
    "plt.show()"
   ]
  },
  {
   "cell_type": "code",
   "execution_count": null,
   "id": "cddd8041-8a42-43a3-bf91-f183fa072109",
   "metadata": {},
   "outputs": [],
   "source": []
  }
 ],
 "metadata": {
  "kernelspec": {
   "display_name": "Python 3 (ipykernel)",
   "language": "python",
   "name": "python3"
  },
  "language_info": {
   "codemirror_mode": {
    "name": "ipython",
    "version": 3
   },
   "file_extension": ".py",
   "mimetype": "text/x-python",
   "name": "python",
   "nbconvert_exporter": "python",
   "pygments_lexer": "ipython3",
   "version": "3.13.2"
  }
 },
 "nbformat": 4,
 "nbformat_minor": 5
}
